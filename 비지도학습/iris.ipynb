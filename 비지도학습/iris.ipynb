{
 "cells": [
  {
   "cell_type": "code",
   "execution_count": 2,
   "metadata": {},
   "outputs": [],
   "source": [
    "import numpy as np\n",
    "import pandas as pd\n",
    "from sklearn.linear_model import LogisticRegression\n",
    "from sklearn.datasets import load_iris\n",
    "from sklearn.preprocessing import StandardScaler\n",
    "from sklearn.model_selection import train_test_split\n",
    "from sklearn.metrics import accuracy_score\n",
    "from sklearn.decomposition import PCA\n",
    "\n"
   ]
  },
  {
   "cell_type": "code",
   "execution_count": 10,
   "metadata": {},
   "outputs": [
    {
     "name": "stdout",
     "output_type": "stream",
     "text": [
      "0.9333333333333333\n"
     ]
    }
   ],
   "source": [
    "iris = load_iris()\n",
    "\n",
    "x_data = iris.data\n",
    "t_data = iris.target\n",
    "\n",
    "# 결측치와 이상치는 처리하지 않아요!\n",
    "# 정규화 진행\n",
    "scaler = StandardScaler()\n",
    "scaler.fit(x_data)\n",
    "x_data_norm = scaler.transform(x_data)\n",
    "\n",
    "# PCA를 사용해서 차원축소부터 먼저 하죠.\n",
    "n_components = 2 # 주성분을 2개로 해요!\n",
    "pca = PCA(n_components = n_components)\n",
    "x_data_norm_pca = pca.fit_transform(x_data_norm)\n",
    "x_data_train_norm_pca, x_data_test_norm_pca, t_data_train, t_data_test = \\\n",
    "train_test_split(x_data_norm_pca,\n",
    "                 t_data,\n",
    "                 test_size=0.3,\n",
    "                 stratify=t_data\n",
    "                ) \n",
    "\n",
    "# 다중분류를 위한 모델\n",
    "sklearn_model = LogisticRegression()\n",
    "sklearn_model.fit(x_data_train_norm_pca,t_data_train)\n",
    "\n",
    "predict = sklearn_model.predict(x_data_test_norm_pca)\n",
    "\n",
    "accuracy = accuracy_score(t_data_test,predict)\n",
    "print(accuracy)"
   ]
  },
  {
   "cell_type": "code",
   "execution_count": 7,
   "metadata": {},
   "outputs": [
    {
     "name": "stdout",
     "output_type": "stream",
     "text": [
      "0.9555555555555556\n"
     ]
    }
   ],
   "source": [
    "iris = load_iris()\n",
    "\n",
    "x_data = iris.data\n",
    "t_data = iris.target\n",
    "scaler = StandardScaler()\n",
    "scaler.fit(x_data)\n",
    "x_data_norm = scaler.transform(x_data)\n",
    "\n",
    "x_data_train_norm, x_data_test_norm, t_data_train, t_data_test = \\\n",
    "train_test_split(x_data_norm,\n",
    "                 t_data,\n",
    "                 test_size=0.3,\n",
    "                 stratify=t_data\n",
    "                ) \n",
    "\n",
    "# 다중분류 모델\n",
    "sklearn_model = LogisticRegression()\n",
    "sklearn_model.fit(x_data_train_norm,t_data_train)\n",
    "print(accuracy_score(t_data_test,sklearn_model.predict(x_data_test_norm)))"
   ]
  },
  {
   "cell_type": "code",
   "execution_count": null,
   "metadata": {},
   "outputs": [],
   "source": []
  }
 ],
 "metadata": {
  "kernelspec": {
   "display_name": "test_venv",
   "language": "python",
   "name": "python3"
  },
  "language_info": {
   "codemirror_mode": {
    "name": "ipython",
    "version": 3
   },
   "file_extension": ".py",
   "mimetype": "text/x-python",
   "name": "python",
   "nbconvert_exporter": "python",
   "pygments_lexer": "ipython3",
   "version": "3.8.18"
  },
  "orig_nbformat": 4
 },
 "nbformat": 4,
 "nbformat_minor": 2
}
