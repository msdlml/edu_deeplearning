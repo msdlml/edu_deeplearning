{
 "cells": [
  {
   "cell_type": "code",
   "execution_count": 52,
   "metadata": {},
   "outputs": [],
   "source": [
    "import numpy as np\n"
   ]
  },
  {
   "cell_type": "code",
   "execution_count": 53,
   "metadata": {},
   "outputs": [
    {
     "data": {
      "text/plain": [
       "0.954434002924965"
      ]
     },
     "execution_count": 53,
     "metadata": {},
     "output_type": "execute_result"
    }
   ],
   "source": [
    "result_org = -(10/16 * np.log2(10/16)) - (6/16 * np.log2(6/16))\n",
    "result_org"
   ]
  },
  {
   "cell_type": "code",
   "execution_count": 54,
   "metadata": {},
   "outputs": [
    {
     "data": {
      "text/plain": [
       "0.7489992230622807"
      ]
     },
     "execution_count": 54,
     "metadata": {},
     "output_type": "execute_result"
    }
   ],
   "source": [
    "# R1 영역\n",
    "result1 = (8/16) * -((7/8 * np.log2(7/8)) + (1/8) * np.log2(1/8))\n",
    "result2 = (8/16) * -((5/8 * np.log2(5/8)) + (3/8) * np.log2(3/8))\n",
    "\n",
    "result_split = result1 + result2\n",
    "result_split"
   ]
  },
  {
   "cell_type": "code",
   "execution_count": 55,
   "metadata": {},
   "outputs": [
    {
     "name": "stdout",
     "output_type": "stream",
     "text": [
      "0.20543477986268432\n"
     ]
    }
   ],
   "source": [
    "# 따라서 정보획득량은\n",
    "print(result_org - result_split)\n",
    "# 0.20543477986268432"
   ]
  },
  {
   "cell_type": "code",
   "execution_count": 56,
   "metadata": {},
   "outputs": [
    {
     "name": "stdout",
     "output_type": "stream",
     "text": [
      "0.9402859586706311\n"
     ]
    }
   ],
   "source": [
    "# 전체 데이터에 대한 Entropy\n",
    "result = -((9/14) * np.log2(9/14) + (5/14) * np.log2(5/14))\n",
    "print(result)\n",
    "# 0.9402859586706311"
   ]
  },
  {
   "cell_type": "code",
   "execution_count": 57,
   "metadata": {},
   "outputs": [
    {
     "name": "stdout",
     "output_type": "stream",
     "text": [
      "0.8921589282623617\n"
     ]
    }
   ],
   "source": [
    "result_wind_weak = 8/14 * (-6/8 * np.log2(6/8) - 2/8 * np.log2(2/8))\n",
    "result_wind_strong = 6/14 * (-3/6 * np.log2(3/6) - 3/6 * np.log2(3/6))\n",
    "\n",
    "result_wind = result_wind_weak + result_wind_strong\n",
    "print(result_wind)\n",
    "# 0.8921589282623617"
   ]
  },
  {
   "cell_type": "code",
   "execution_count": 58,
   "metadata": {},
   "outputs": [
    {
     "name": "stdout",
     "output_type": "stream",
     "text": [
      "wind : 0.04812703040826949\n",
      "out : 0.24674981977443933\n",
      "hum : 0.15183550136234159\n"
     ]
    }
   ],
   "source": [
    "# (전체 엔트로피 - 특정데이터로 분류했을 때 엔트로피) 는 클수록 좋음\n",
    "# 전체데이터를 Wind로 분류했을때 우리가 얻을 수 있는 정보량은\n",
    "print(f'wind : {result - result_wind}')   # 0.048\n",
    "\n",
    "# 전체데이터를 outlook으로 분류했을 때 우리가 얻을 수 있는 정보량\n",
    "result_out_sunny = 5/14 * (-2/5 * np.log2(2/5) - 3/5 * np.log2(3/5))\n",
    "result_out_overcast = 4/14 * (-1 * np.log2(1))\n",
    "result_out_rain = 5/14 *  (-3/5 * np.log2(3/5) - 2/5 * np.log2(2/5))\n",
    "\n",
    "result_out = result_out_overcast + result_out_sunny + result_out_rain\n",
    "\n",
    "print(f'out : {result - result_out}')\n",
    "# 전체데이터를 습도로 분류했을 때 우리가 얻을 수 있는 정보량\n",
    "result_high = 7/14 * (-3/7 * np.log2(3/7) - 4/7 * np.log2(4/7))\n",
    "result_norm = 7/14 * (-6/7 * np.log2(6/7) - 1/7 * np.log2(1/7))\n",
    "\n",
    "result_hum = result_high + result_norm\n",
    "print(f'hum : {result - result_hum}')"
   ]
  },
  {
   "cell_type": "code",
   "execution_count": 59,
   "metadata": {},
   "outputs": [],
   "source": [
    "# 이런 Decision Tree를 사용하려면 어떻게 해야 하나요?\n",
    "# sklearn을 이용해서 사용하면 되요!\n",
    "\n",
    "# Iris 예제를 이용해서 Decision Tree를 구현해 보아요!\n",
    "# 컬럼을 2개만 사용할께요. 꽃받침의 길이와 꽃잎의 길이만 사용할께요!\n",
    "\n",
    "import numpy as np\n",
    "import pandas as pd\n",
    "import matplotlib.pyplot as plt\n",
    "from sklearn.datasets import load_iris\n",
    "from sklearn.preprocessing import MinMaxScaler\n",
    "from sklearn.model_selection import train_test_split\n",
    "from sklearn.metrics import accuracy_score\n",
    "from mlxtend.plotting import plot_decision_regions\n",
    "from sklearn.tree import DecisionTreeClassifier"
   ]
  },
  {
   "cell_type": "code",
   "execution_count": 60,
   "metadata": {},
   "outputs": [],
   "source": [
    "# Raw Data Loading\n",
    "iris = load_iris()\n",
    "\n",
    "# DataFrame으로 변환해서 처리하는게 쉽고 편해요!\n",
    "df = pd.DataFrame(iris.data,\n",
    "                  columns=iris.feature_names)\n",
    "\n",
    "df.columns = ['sepal_length', 'sepal_width', 'petal_length', 'petal_width']\n",
    "\n",
    "df['target'] = iris.target\n",
    "# display(df)\n",
    "\n",
    "# 결측치와 이상치는 없다고 가정하고 진행!\n",
    "# 중복데이터 처리\n",
    "df = df.drop_duplicates()\n",
    "\n",
    "# 이제 x_data와 t_data를 추출하면 될 거 같아요!\n",
    "# x_data는 4개의 feature\n",
    "x_data = df.drop(['target','sepal_width', 'petal_width'],\n",
    "                 axis=1,\n",
    "                 inplace=False).values\n",
    "t_data = df['target'].values\n",
    "\n",
    "# 데이터 분리보다 정규화를 먼저 진행하는게 조금 더 편해요!\n",
    "scaler = MinMaxScaler()\n",
    "scaler.fit(x_data)\n",
    "x_data_norm = scaler.transform(x_data)\n",
    "\n",
    "# 데이터 분리\n",
    "x_data_train_norm, x_data_test_norm, t_data_train, t_data_test = \\\n",
    "train_test_split(x_data_norm,\n",
    "                 t_data,\n",
    "                 test_size=0.3,\n",
    "                 stratify=t_data,\n",
    "                 random_state=0)"
   ]
  },
  {
   "cell_type": "code",
   "execution_count": 61,
   "metadata": {},
   "outputs": [
    {
     "name": "stdout",
     "output_type": "stream",
     "text": [
      "0.9333333333333333\n"
     ]
    },
    {
     "data": {
      "text/plain": [
       "<AxesSubplot:>"
      ]
     },
     "execution_count": 61,
     "metadata": {},
     "output_type": "execute_result"
    },
    {
     "data": {
      "image/png": "[encoded data removed]",
      "text/plain": [
       "<Figure size 640x480 with 1 Axes>"
      ]
     },
     "metadata": {},
     "output_type": "display_data"
    }
   ],
   "source": [
    "model = DecisionTreeClassifier()\n",
    "model.fit(x_data_train_norm,t_data_train)\n",
    "#evaluation\n",
    "print(accuracy_score(t_data_test,model.predict(x_data_test_norm)))\n",
    "#시각화\n",
    "plot_decision_regions(X=x_data_train_norm,\n",
    "                      y=t_data_train,\n",
    "                      clf=model)"
   ]
  },
  {
   "cell_type": "code",
   "execution_count": 62,
   "metadata": {},
   "outputs": [],
   "source": [
    "# 우리가 했던 데이터중에 MNIST Data가 있어요!\n",
    "# 이 데이터셋을 이용해서 다중분류작업을 수행해 볼꺼예요!\n",
    "# 3가지로 구현해 볼꺼예요!\n",
    "\n",
    "# 1. Regression을 이용해서 구현(Tensorflow로 구현)\n",
    "# 2. SVM을 이용해서 구현(sklearn으로 구현) - GridSearchCV 활용\n",
    "# 3. DecisionTree를 이용해서 구현!\n",
    "\n",
    "# 각 모델의 정확도는 어떻게 되는지 비교해보아요!"
   ]
  },
  {
   "cell_type": "code",
   "execution_count": 3,
   "metadata": {},
   "outputs": [],
   "source": [
    "import numpy as np\n",
    "import pandas as pd\n",
    "import matplotlib.pyplot as plt\n",
    "from sklearn.preprocessing import MinMaxScaler\n",
    "from sklearn.model_selection import train_test_split\n",
    "from sklearn.metrics import classification_report\n",
    "from tensorflow.keras.models import Sequential\n",
    "from tensorflow.keras.layers import Flatten, Dense\n",
    "from tensorflow.keras.optimizers import Adam\n",
    "from sklearn.tree import DecisionTreeClassifier\n",
    "from sklearn.metrics import accuracy_score\n",
    "from sklearn.svm import SVC\n",
    "from sklearn.model_selection import GridSearchCV"
   ]
  },
  {
   "cell_type": "code",
   "execution_count": 6,
   "metadata": {},
   "outputs": [
    {
     "name": "stdout",
     "output_type": "stream",
     "text": [
      "Model: \"sequential_2\"\n",
      "_________________________________________________________________\n",
      "Layer (type)                 Output Shape              Param #   \n",
      "=================================================================\n",
      "flatten_2 (Flatten)          (None, 784)               0         \n",
      "_________________________________________________________________\n",
      "dense_2 (Dense)              (None, 10)                7850      \n",
      "=================================================================\n",
      "Total params: 7,850\n",
      "Trainable params: 7,850\n",
      "Non-trainable params: 0\n",
      "_________________________________________________________________\n",
      "Epoch 1/100\n",
      "236/236 [==============================] - 1s 3ms/step - loss: 1.4792 - acc: 0.6341 - val_loss: 0.9733 - val_acc: 0.8073\n",
      "Epoch 2/100\n",
      "236/236 [==============================] - 1s 3ms/step - loss: 0.7947 - acc: 0.8331 - val_loss: 0.6700 - val_acc: 0.8568\n",
      "Epoch 3/100\n",
      "236/236 [==============================] - 1s 3ms/step - loss: 0.6011 - acc: 0.8634 - val_loss: 0.5489 - val_acc: 0.8726\n",
      "Epoch 4/100\n",
      "236/236 [==============================] - 1s 2ms/step - loss: 0.5101 - acc: 0.8760 - val_loss: 0.4829 - val_acc: 0.8823\n",
      "Epoch 5/100\n",
      "236/236 [==============================] - 0s 2ms/step - loss: 0.4561 - acc: 0.8855 - val_loss: 0.4416 - val_acc: 0.8896\n",
      "Epoch 6/100\n",
      "236/236 [==============================] - 0s 2ms/step - loss: 0.4205 - acc: 0.8917 - val_loss: 0.4139 - val_acc: 0.8922\n",
      "Epoch 7/100\n",
      "236/236 [==============================] - 0s 2ms/step - loss: 0.3948 - acc: 0.8974 - val_loss: 0.3925 - val_acc: 0.8974\n",
      "Epoch 8/100\n",
      "236/236 [==============================] - 0s 2ms/step - loss: 0.3753 - acc: 0.9012 - val_loss: 0.3769 - val_acc: 0.8981\n",
      "Epoch 9/100\n",
      "236/236 [==============================] - 0s 2ms/step - loss: 0.3596 - acc: 0.9045 - val_loss: 0.3635 - val_acc: 0.9010\n",
      "Epoch 10/100\n",
      "236/236 [==============================] - 0s 2ms/step - loss: 0.3471 - acc: 0.9062 - val_loss: 0.3533 - val_acc: 0.9034\n",
      "Epoch 11/100\n",
      "236/236 [==============================] - 0s 2ms/step - loss: 0.3368 - acc: 0.9091 - val_loss: 0.3450 - val_acc: 0.9049\n",
      "Epoch 12/100\n",
      "236/236 [==============================] - 0s 2ms/step - loss: 0.3278 - acc: 0.9119 - val_loss: 0.3373 - val_acc: 0.9071\n",
      "Epoch 13/100\n",
      "236/236 [==============================] - 0s 2ms/step - loss: 0.3202 - acc: 0.9131 - val_loss: 0.3321 - val_acc: 0.9073\n",
      "Epoch 14/100\n",
      "236/236 [==============================] - 0s 2ms/step - loss: 0.3138 - acc: 0.9148 - val_loss: 0.3263 - val_acc: 0.9094\n",
      "Epoch 15/100\n",
      "236/236 [==============================] - 0s 2ms/step - loss: 0.3078 - acc: 0.9156 - val_loss: 0.3219 - val_acc: 0.9102\n",
      "Epoch 16/100\n",
      "236/236 [==============================] - 0s 2ms/step - loss: 0.3027 - acc: 0.9167 - val_loss: 0.3180 - val_acc: 0.9133\n",
      "Epoch 17/100\n",
      "236/236 [==============================] - 0s 2ms/step - loss: 0.2981 - acc: 0.9188 - val_loss: 0.3140 - val_acc: 0.9129\n",
      "Epoch 18/100\n",
      "236/236 [==============================] - 0s 2ms/step - loss: 0.2939 - acc: 0.9202 - val_loss: 0.3112 - val_acc: 0.9141\n",
      "Epoch 19/100\n",
      "236/236 [==============================] - 0s 2ms/step - loss: 0.2903 - acc: 0.9203 - val_loss: 0.3084 - val_acc: 0.9143\n",
      "Epoch 20/100\n",
      "236/236 [==============================] - 0s 2ms/step - loss: 0.2867 - acc: 0.9216 - val_loss: 0.3057 - val_acc: 0.9145\n",
      "Epoch 21/100\n",
      "236/236 [==============================] - 0s 2ms/step - loss: 0.2836 - acc: 0.9224 - val_loss: 0.3034 - val_acc: 0.9153\n",
      "Epoch 22/100\n",
      "236/236 [==============================] - 0s 2ms/step - loss: 0.2805 - acc: 0.9233 - val_loss: 0.3017 - val_acc: 0.9158\n",
      "Epoch 23/100\n",
      "236/236 [==============================] - 0s 2ms/step - loss: 0.2779 - acc: 0.9244 - val_loss: 0.3001 - val_acc: 0.9163\n",
      "Epoch 24/100\n",
      "236/236 [==============================] - 0s 2ms/step - loss: 0.2755 - acc: 0.9243 - val_loss: 0.2980 - val_acc: 0.9177\n",
      "Epoch 25/100\n",
      "236/236 [==============================] - 0s 2ms/step - loss: 0.2733 - acc: 0.9249 - val_loss: 0.2961 - val_acc: 0.9172\n",
      "Epoch 26/100\n",
      "236/236 [==============================] - 0s 2ms/step - loss: 0.2709 - acc: 0.9249 - val_loss: 0.2946 - val_acc: 0.9175\n",
      "Epoch 27/100\n",
      "236/236 [==============================] - 0s 2ms/step - loss: 0.2690 - acc: 0.9256 - val_loss: 0.2938 - val_acc: 0.9172\n",
      "Epoch 28/100\n",
      "236/236 [==============================] - 0s 2ms/step - loss: 0.2671 - acc: 0.9264 - val_loss: 0.2927 - val_acc: 0.9180\n",
      "Epoch 29/100\n",
      "236/236 [==============================] - 0s 2ms/step - loss: 0.2652 - acc: 0.9264 - val_loss: 0.2917 - val_acc: 0.9185\n",
      "Epoch 30/100\n",
      "236/236 [==============================] - 0s 2ms/step - loss: 0.2636 - acc: 0.9276 - val_loss: 0.2910 - val_acc: 0.9182\n",
      "Epoch 31/100\n",
      "236/236 [==============================] - 0s 2ms/step - loss: 0.2619 - acc: 0.9278 - val_loss: 0.2898 - val_acc: 0.9180\n",
      "Epoch 32/100\n",
      "236/236 [==============================] - 0s 2ms/step - loss: 0.2603 - acc: 0.9286 - val_loss: 0.2889 - val_acc: 0.9184\n",
      "Epoch 33/100\n",
      "236/236 [==============================] - 0s 2ms/step - loss: 0.2590 - acc: 0.9286 - val_loss: 0.2875 - val_acc: 0.9189\n",
      "Epoch 34/100\n",
      "236/236 [==============================] - 0s 2ms/step - loss: 0.2575 - acc: 0.9287 - val_loss: 0.2875 - val_acc: 0.9184\n",
      "Epoch 35/100\n",
      "236/236 [==============================] - 0s 2ms/step - loss: 0.2561 - acc: 0.9291 - val_loss: 0.2863 - val_acc: 0.9196\n",
      "Epoch 36/100\n",
      "236/236 [==============================] - 0s 2ms/step - loss: 0.2547 - acc: 0.9295 - val_loss: 0.2862 - val_acc: 0.9199\n",
      "Epoch 37/100\n",
      "236/236 [==============================] - 0s 2ms/step - loss: 0.2534 - acc: 0.9299 - val_loss: 0.2859 - val_acc: 0.9190\n",
      "Epoch 38/100\n",
      "236/236 [==============================] - 0s 2ms/step - loss: 0.2525 - acc: 0.9304 - val_loss: 0.2845 - val_acc: 0.9204\n",
      "Epoch 39/100\n",
      "236/236 [==============================] - 0s 2ms/step - loss: 0.2514 - acc: 0.9298 - val_loss: 0.2844 - val_acc: 0.9204\n",
      "Epoch 40/100\n",
      "236/236 [==============================] - 0s 2ms/step - loss: 0.2502 - acc: 0.9301 - val_loss: 0.2839 - val_acc: 0.9207\n",
      "Epoch 41/100\n",
      "236/236 [==============================] - 0s 2ms/step - loss: 0.2490 - acc: 0.9315 - val_loss: 0.2838 - val_acc: 0.9204\n",
      "Epoch 42/100\n",
      "236/236 [==============================] - 0s 2ms/step - loss: 0.2480 - acc: 0.9310 - val_loss: 0.2823 - val_acc: 0.9223\n",
      "Epoch 43/100\n",
      "236/236 [==============================] - 1s 2ms/step - loss: 0.2471 - acc: 0.9316 - val_loss: 0.2819 - val_acc: 0.9226\n",
      "Epoch 44/100\n",
      "236/236 [==============================] - 1s 2ms/step - loss: 0.2462 - acc: 0.9321 - val_loss: 0.2819 - val_acc: 0.9202\n",
      "Epoch 45/100\n",
      "236/236 [==============================] - 1s 2ms/step - loss: 0.2453 - acc: 0.9312 - val_loss: 0.2812 - val_acc: 0.9230\n",
      "Epoch 46/100\n",
      "236/236 [==============================] - 0s 2ms/step - loss: 0.2442 - acc: 0.9326 - val_loss: 0.2810 - val_acc: 0.9221\n",
      "Epoch 47/100\n",
      "236/236 [==============================] - 1s 2ms/step - loss: 0.2434 - acc: 0.9321 - val_loss: 0.2804 - val_acc: 0.9223\n",
      "Epoch 48/100\n",
      "236/236 [==============================] - 0s 2ms/step - loss: 0.2425 - acc: 0.9330 - val_loss: 0.2805 - val_acc: 0.9216\n",
      "Epoch 49/100\n",
      "236/236 [==============================] - 1s 2ms/step - loss: 0.2417 - acc: 0.9328 - val_loss: 0.2797 - val_acc: 0.9235\n",
      "Epoch 50/100\n",
      "236/236 [==============================] - 1s 2ms/step - loss: 0.2409 - acc: 0.9327 - val_loss: 0.2801 - val_acc: 0.9219\n",
      "Epoch 51/100\n",
      "236/236 [==============================] - 1s 2ms/step - loss: 0.2400 - acc: 0.9334 - val_loss: 0.2799 - val_acc: 0.9224\n",
      "Epoch 52/100\n",
      "236/236 [==============================] - 1s 2ms/step - loss: 0.2395 - acc: 0.9334 - val_loss: 0.2796 - val_acc: 0.9223\n",
      "Epoch 53/100\n",
      "236/236 [==============================] - 1s 2ms/step - loss: 0.2385 - acc: 0.9334 - val_loss: 0.2789 - val_acc: 0.9218\n",
      "Epoch 54/100\n",
      "236/236 [==============================] - 1s 3ms/step - loss: 0.2380 - acc: 0.9338 - val_loss: 0.2787 - val_acc: 0.9235\n",
      "Epoch 55/100\n",
      "236/236 [==============================] - 1s 2ms/step - loss: 0.2371 - acc: 0.9340 - val_loss: 0.2787 - val_acc: 0.9230\n",
      "Epoch 56/100\n",
      "236/236 [==============================] - 1s 2ms/step - loss: 0.2364 - acc: 0.9345 - val_loss: 0.2783 - val_acc: 0.9240\n",
      "Epoch 57/100\n",
      "236/236 [==============================] - 1s 2ms/step - loss: 0.2357 - acc: 0.9336 - val_loss: 0.2782 - val_acc: 0.9231\n",
      "Epoch 58/100\n",
      "236/236 [==============================] - 1s 2ms/step - loss: 0.2350 - acc: 0.9346 - val_loss: 0.2778 - val_acc: 0.9226\n",
      "Epoch 59/100\n",
      "236/236 [==============================] - 1s 2ms/step - loss: 0.2345 - acc: 0.9343 - val_loss: 0.2783 - val_acc: 0.9238\n",
      "Epoch 60/100\n",
      "236/236 [==============================] - 1s 2ms/step - loss: 0.2338 - acc: 0.9347 - val_loss: 0.2777 - val_acc: 0.9230\n",
      "Epoch 61/100\n",
      "236/236 [==============================] - 1s 3ms/step - loss: 0.2332 - acc: 0.9353 - val_loss: 0.2776 - val_acc: 0.9235\n",
      "Epoch 62/100\n",
      "236/236 [==============================] - 1s 3ms/step - loss: 0.2325 - acc: 0.9348 - val_loss: 0.2773 - val_acc: 0.9235\n",
      "Epoch 63/100\n",
      "236/236 [==============================] - 1s 2ms/step - loss: 0.2319 - acc: 0.9357 - val_loss: 0.2766 - val_acc: 0.9241\n",
      "Epoch 64/100\n",
      "236/236 [==============================] - 1s 2ms/step - loss: 0.2315 - acc: 0.9352 - val_loss: 0.2769 - val_acc: 0.9231\n",
      "Epoch 65/100\n",
      "236/236 [==============================] - 1s 2ms/step - loss: 0.2306 - acc: 0.9360 - val_loss: 0.2771 - val_acc: 0.9231\n",
      "Epoch 66/100\n",
      "236/236 [==============================] - 1s 2ms/step - loss: 0.2302 - acc: 0.9358 - val_loss: 0.2772 - val_acc: 0.9247\n",
      "Epoch 67/100\n",
      "236/236 [==============================] - 1s 2ms/step - loss: 0.2298 - acc: 0.9358 - val_loss: 0.2764 - val_acc: 0.9233\n",
      "Epoch 68/100\n",
      "236/236 [==============================] - 1s 3ms/step - loss: 0.2291 - acc: 0.9360 - val_loss: 0.2775 - val_acc: 0.9238\n",
      "Epoch 69/100\n",
      "236/236 [==============================] - 1s 3ms/step - loss: 0.2285 - acc: 0.9366 - val_loss: 0.2769 - val_acc: 0.9247\n",
      "Epoch 70/100\n",
      "236/236 [==============================] - 1s 3ms/step - loss: 0.2280 - acc: 0.9365 - val_loss: 0.2765 - val_acc: 0.9236\n",
      "Epoch 71/100\n",
      "236/236 [==============================] - 1s 3ms/step - loss: 0.2275 - acc: 0.9366 - val_loss: 0.2776 - val_acc: 0.9238\n",
      "Epoch 72/100\n",
      "236/236 [==============================] - 1s 2ms/step - loss: 0.2271 - acc: 0.9366 - val_loss: 0.2762 - val_acc: 0.9248\n",
      "Epoch 73/100\n",
      "236/236 [==============================] - 1s 3ms/step - loss: 0.2265 - acc: 0.9369 - val_loss: 0.2770 - val_acc: 0.9233\n",
      "Epoch 74/100\n",
      "236/236 [==============================] - 1s 3ms/step - loss: 0.2260 - acc: 0.9365 - val_loss: 0.2770 - val_acc: 0.9241\n",
      "Epoch 75/100\n",
      "236/236 [==============================] - 1s 2ms/step - loss: 0.2255 - acc: 0.9374 - val_loss: 0.2761 - val_acc: 0.9250\n",
      "Epoch 76/100\n",
      "236/236 [==============================] - 1s 2ms/step - loss: 0.2250 - acc: 0.9372 - val_loss: 0.2764 - val_acc: 0.9247\n",
      "Epoch 77/100\n",
      "236/236 [==============================] - 1s 2ms/step - loss: 0.2248 - acc: 0.9378 - val_loss: 0.2758 - val_acc: 0.9264\n",
      "Epoch 78/100\n",
      "236/236 [==============================] - 1s 2ms/step - loss: 0.2242 - acc: 0.9379 - val_loss: 0.2761 - val_acc: 0.9240\n",
      "Epoch 79/100\n",
      "236/236 [==============================] - 1s 3ms/step - loss: 0.2237 - acc: 0.9375 - val_loss: 0.2770 - val_acc: 0.9243\n",
      "Epoch 80/100\n",
      "236/236 [==============================] - 1s 3ms/step - loss: 0.2232 - acc: 0.9378 - val_loss: 0.2760 - val_acc: 0.9247\n",
      "Epoch 81/100\n",
      "236/236 [==============================] - 1s 2ms/step - loss: 0.2228 - acc: 0.9381 - val_loss: 0.2766 - val_acc: 0.9255\n",
      "Epoch 82/100\n",
      "236/236 [==============================] - 1s 3ms/step - loss: 0.2223 - acc: 0.9376 - val_loss: 0.2753 - val_acc: 0.9259\n",
      "Epoch 83/100\n",
      "236/236 [==============================] - 1s 2ms/step - loss: 0.2221 - acc: 0.9378 - val_loss: 0.2758 - val_acc: 0.9255\n",
      "Epoch 84/100\n",
      "236/236 [==============================] - 1s 2ms/step - loss: 0.2217 - acc: 0.9383 - val_loss: 0.2762 - val_acc: 0.9250\n",
      "Epoch 85/100\n",
      "236/236 [==============================] - 1s 3ms/step - loss: 0.2212 - acc: 0.9380 - val_loss: 0.2756 - val_acc: 0.9267\n",
      "Epoch 86/100\n",
      "236/236 [==============================] - 1s 2ms/step - loss: 0.2207 - acc: 0.9386 - val_loss: 0.2756 - val_acc: 0.9252\n",
      "Epoch 87/100\n",
      "236/236 [==============================] - 1s 3ms/step - loss: 0.2206 - acc: 0.9380 - val_loss: 0.2758 - val_acc: 0.9260\n",
      "Epoch 88/100\n",
      "236/236 [==============================] - 1s 3ms/step - loss: 0.2199 - acc: 0.9389 - val_loss: 0.2756 - val_acc: 0.9259\n",
      "Epoch 89/100\n",
      "236/236 [==============================] - 1s 3ms/step - loss: 0.2195 - acc: 0.9384 - val_loss: 0.2755 - val_acc: 0.9262\n",
      "Epoch 90/100\n",
      "236/236 [==============================] - 1s 3ms/step - loss: 0.2191 - acc: 0.9395 - val_loss: 0.2760 - val_acc: 0.9259\n",
      "Epoch 91/100\n",
      "236/236 [==============================] - 0s 2ms/step - loss: 0.2189 - acc: 0.9393 - val_loss: 0.2759 - val_acc: 0.9264\n",
      "Epoch 92/100\n",
      "236/236 [==============================] - 1s 2ms/step - loss: 0.2182 - acc: 0.9400 - val_loss: 0.2768 - val_acc: 0.9260\n",
      "Epoch 93/100\n",
      "236/236 [==============================] - 1s 2ms/step - loss: 0.2180 - acc: 0.9388 - val_loss: 0.2759 - val_acc: 0.9269\n",
      "Epoch 94/100\n",
      "236/236 [==============================] - 1s 2ms/step - loss: 0.2175 - acc: 0.9396 - val_loss: 0.2771 - val_acc: 0.9255\n",
      "Epoch 95/100\n",
      "236/236 [==============================] - 1s 3ms/step - loss: 0.2173 - acc: 0.9397 - val_loss: 0.2762 - val_acc: 0.9252\n",
      "Epoch 96/100\n",
      "236/236 [==============================] - 1s 2ms/step - loss: 0.2168 - acc: 0.9391 - val_loss: 0.2765 - val_acc: 0.9245\n",
      "Epoch 97/100\n",
      "236/236 [==============================] - 1s 2ms/step - loss: 0.2166 - acc: 0.9394 - val_loss: 0.2758 - val_acc: 0.9259\n",
      "Epoch 98/100\n",
      "236/236 [==============================] - 1s 2ms/step - loss: 0.2163 - acc: 0.9392 - val_loss: 0.2761 - val_acc: 0.9253\n",
      "Epoch 99/100\n",
      "236/236 [==============================] - 1s 3ms/step - loss: 0.2157 - acc: 0.9403 - val_loss: 0.2761 - val_acc: 0.9253\n",
      "Epoch 100/100\n",
      "236/236 [==============================] - 1s 3ms/step - loss: 0.2157 - acc: 0.9398 - val_loss: 0.2763 - val_acc: 0.9259\n"
     ]
    }
   ],
   "source": [
    "import os\n",
    "os.environ[\"CUDA_VISIBLE_DEVICES\"] = \"-1\"\n",
    "df = pd.read_csv('train.csv')\n",
    "\n",
    "x_data = df.drop('label',axis=1, inplace=False).values\n",
    "t_data = df['label'].values\n",
    "\n",
    "scaler = MinMaxScaler()\n",
    "scaler.fit(x_data)\n",
    "x_data_norm = scaler.transform(x_data)\n",
    "\n",
    "x_data_train_norm, x_data_test_norm, t_data_train, t_data_test = \\\n",
    "train_test_split(x_data_norm,\n",
    "                 t_data,\n",
    "                 test_size=0.3,\n",
    "                 stratify=t_data,\n",
    "                 random_state=1)\n",
    "\n",
    "keras_model = Sequential()\n",
    "keras_model.add(Flatten(input_shape = (784,)))\n",
    "keras_model.add(Dense(units = 10,\n",
    "                      activation = 'softmax'))\n",
    "keras_model.compile(optimizer = Adam(learning_rate=3e-4),\n",
    "                    loss='sparse_categorical_crossentropy',\n",
    "                    metrics = ['acc'])\n",
    "keras_model.summary()\n",
    "\n",
    "history = keras_model.fit(x_data_train_norm,\n",
    "                          t_data_train,\n",
    "                          epochs = 100,\n",
    "                          verbose = 1,\n",
    "                          validation_split = 0.2,\n",
    "                          batch_size=100\n",
    "                          )\n"
   ]
  },
  {
   "cell_type": "code",
   "execution_count": 65,
   "metadata": {},
   "outputs": [
    {
     "name": "stdout",
     "output_type": "stream",
     "text": [
      "394/394 [==============================] - 0s 345us/step - loss: 0.2817 - acc: 0.9210\n",
      "케라스모델 : [0.2817414700984955, 0.9210317730903625]\n"
     ]
    }
   ],
   "source": [
    "print(f'케라스모델 : {keras_model.evaluate(x_data_test_norm,t_data_test)}')\n"
   ]
  },
  {
   "cell_type": "code",
   "execution_count": 66,
   "metadata": {},
   "outputs": [],
   "source": [
    "# param_grid = [{\n",
    "#     'kernel': ['linear'],\n",
    "#     'C': [0.1, 0.5, 10, 100]\n",
    "# },{\n",
    "#     'kernel': ['rbf'],\n",
    "#     'C': [0.1, 0.5, 10, 100],\n",
    "#     'gamma': [0.001, 0.01, 0.1]\n",
    "# }]\n",
    "# svm_model = SVC()\n",
    "\n",
    "# grid_search = GridSearchCV(svm_model, #튜닝할 모델\n",
    "#                            param_grid, #하이퍼파라미터들의 값을 딕셔너리로 지정\n",
    "#                            cv=5, #교차 검증을 몇겹으로 할지 결정\n",
    "#                            scoring='accuracy', #모델의 성능을 측정할 지표 지정\n",
    "#                            verbose=1) # 실행과정 출력여부\n",
    "\n",
    "# grid_search.fit(x_data_train_norm,\n",
    "#                 t_data_train)\n",
    "\n",
    "# print(grid_search.best_params_)\n",
    "# print(grid_search.best_score_)\n",
    "\n"
   ]
  },
  {
   "cell_type": "code",
   "execution_count": 67,
   "metadata": {},
   "outputs": [],
   "source": [
    "# svm_model = SVC()\n",
    "# svm_model.fit(x_data_train_norm,t_data_train)\n",
    "# print(accuracy_score(t_data_test,svm_model.predict(x_data_test_norm)))"
   ]
  },
  {
   "cell_type": "code",
   "execution_count": 68,
   "metadata": {},
   "outputs": [
    {
     "name": "stdout",
     "output_type": "stream",
     "text": [
      "0.8533333333333334\n"
     ]
    }
   ],
   "source": [
    "# 클래스가 많으면 정확도 낮음\n",
    "# 피쳐가 연속적인 숫자값일 때도 약함\n",
    "tree_model = DecisionTreeClassifier()\n",
    "tree_model.fit(x_data_train_norm,t_data_train)\n",
    "#evaluation\n",
    "print(accuracy_score(t_data_test,tree_model.predict(x_data_test_norm)))"
   ]
  },
  {
   "cell_type": "code",
   "execution_count": 69,
   "metadata": {},
   "outputs": [
    {
     "name": "stdout",
     "output_type": "stream",
     "text": [
      "0.9637301587301588\n"
     ]
    }
   ],
   "source": [
    "from sklearn.neighbors import KNeighborsClassifier\n",
    "\n",
    "knn_model = KNeighborsClassifier(n_neighbors=1)\n",
    "knn_model.fit(x_data_train_norm,t_data_train)\n",
    "knn_model_result = accuracy_score(t_data_test,knn_model.predict(x_data_test_norm))\n",
    "print(knn_model_result)"
   ]
  },
  {
   "cell_type": "code",
   "execution_count": 1,
   "metadata": {},
   "outputs": [],
   "source": [
    "import tensorflow as tf\n",
    "tf.__version__\n",
    "import os\n",
    "os.environ[\"CUDA_VISIBLE_DEVICES\"] = \"0\""
   ]
  },
  {
   "cell_type": "code",
   "execution_count": 2,
   "metadata": {},
   "outputs": [
    {
     "name": "stdout",
     "output_type": "stream",
     "text": [
      "WARNING:tensorflow:From C:\\Users\\user\\AppData\\Local\\Temp\\ipykernel_24256\\3306442596.py:2: is_gpu_available (from tensorflow.python.framework.test_util) is deprecated and will be removed in a future version.\n",
      "Instructions for updating:\n",
      "Use `tf.config.list_physical_devices('GPU')` instead.\n"
     ]
    },
    {
     "data": {
      "text/plain": [
       "[PhysicalDevice(name='/physical_device:GPU:0', device_type='GPU')]"
      ]
     },
     "execution_count": 2,
     "metadata": {},
     "output_type": "execute_result"
    }
   ],
   "source": [
    "import tensorflow as tf\n",
    "tf.test.is_gpu_available()\n",
    "# GPU 디바이스 목록 얻기\n",
    "tf.config.list_physical_devices('GPU')\n",
    "\n",
    "# 특정 GPU만 사용하도록 설정\n",
    "#tf.config.experimental.set_visible_devices(physical_devices[1], 'GPU')\n"
   ]
  },
  {
   "cell_type": "code",
   "execution_count": null,
   "metadata": {},
   "outputs": [],
   "source": []
  }
 ],
 "metadata": {
  "kernelspec": {
   "display_name": "test_venv",
   "language": "python",
   "name": "python3"
  },
  "language_info": {
   "codemirror_mode": {
    "name": "ipython",
    "version": 3
   },
   "file_extension": ".py",
   "mimetype": "text/x-python",
   "name": "python",
   "nbconvert_exporter": "python",
   "pygments_lexer": "ipython3",
   "version": "3.7.16"
  },
  "orig_nbformat": 4
 },
 "nbformat": 4,
 "nbformat_minor": 2
}
